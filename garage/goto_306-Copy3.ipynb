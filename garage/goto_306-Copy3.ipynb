{
 "cells": [
  {
   "cell_type": "code",
   "execution_count": 1,
   "metadata": {},
   "outputs": [],
   "source": [
    "import torch\n",
    "import torchvision.datasets as datasets\n",
    "from torch.utils.data import DataLoader\n",
    "import torchvision.transforms as transforms\n",
    "from torchvision import utils\n",
    "import torch.nn as nn\n",
    "import torch.nn.functional as F\n",
    "import os\n",
    "\n",
    "import numpy as np\n",
    "\n",
    "from PIL import Image\n",
    "import glob\n",
    "import time\n",
    "import matplotlib.pyplot as plt\n",
    "from torch.utils.data import TensorDataset "
   ]
  },
  {
   "cell_type": "code",
   "execution_count": 2,
   "metadata": {},
   "outputs": [],
   "source": [
    "device = torch.device('cuda' if torch.cuda.is_available() else 'cpu')"
   ]
  },
  {
   "cell_type": "code",
   "execution_count": 3,
   "metadata": {},
   "outputs": [],
   "source": [
    "#tf.debugging.set_log_device_placement(True)"
   ]
  },
  {
   "cell_type": "code",
   "execution_count": 4,
   "metadata": {},
   "outputs": [],
   "source": [
    "batch_size = 128\n",
    "num_channels = 1\n",
    "num_classes = 16\n",
    "image_size = 112\n",
    "latent_dim = 128"
   ]
  },
  {
   "cell_type": "code",
   "execution_count": 5,
   "metadata": {},
   "outputs": [],
   "source": [
    "my_dir = os.getcwd()\n",
    "train_dir=os.path.join(my_dir, '//image')\n",
    "val_dir=os.path.join(my_dir, '//image')"
   ]
  },
  {
   "cell_type": "code",
   "execution_count": 6,
   "metadata": {},
   "outputs": [
    {
     "name": "stdout",
     "output_type": "stream",
     "text": [
      "/home/npswml/Desktop/dongju/gen4test\n",
      "//image\t||\t//image\n"
     ]
    }
   ],
   "source": [
    "print(my_dir)\n",
    "print(train_dir+\"\\t||\\t\"+val_dir)"
   ]
  },
  {
   "cell_type": "code",
   "execution_count": 7,
   "metadata": {},
   "outputs": [
    {
     "data": {
      "text/plain": [
       "\"\\nfor filename in glob.glob(train_dir+'/*/*.jpeg'):\\n    im = image.open(filename)\\n    image_list.append(im)\\n\""
      ]
     },
     "execution_count": 7,
     "metadata": {},
     "output_type": "execute_result"
    }
   ],
   "source": [
    "image_list = []\n",
    "\n",
    "def find_image_files_in_directory(directory_path):\n",
    "    image_extensions = [\"jpeg\"]\n",
    "    image_files = []\n",
    "    label_lists =[]    \n",
    "    for root, dirs, files in os.walk(directory_path):\n",
    "        for file in files:\n",
    "            \n",
    "            if file.lower().endswith(tuple(image_extensions)):\n",
    "                tmp = root.split(\"/\")\n",
    "                label_lists.append(tmp[-1])\n",
    "                image_files.append(os.path.join(root, file))\n",
    "                \n",
    "\n",
    "    return image_files, label_lists\n",
    "\n",
    "# 디렉토리 내의 모든 하위 디렉토리에서 이미지 파일을 검색합니다.\n",
    "directory_path = my_dir\n",
    "image_files, label_lists = find_image_files_in_directory(directory_path)\n",
    "\n",
    "\n",
    "\n",
    "#print(glob.glob('*.jpeg'))\n",
    "\n",
    "'''\n",
    "for filename in glob.glob(train_dir+'/*/*.jpeg'):\n",
    "    im = image.open(filename)\n",
    "    image_list.append(im)\n",
    "'''\n",
    "\n"
   ]
  },
  {
   "cell_type": "code",
   "execution_count": 8,
   "metadata": {},
   "outputs": [],
   "source": [
    "\n",
    "np_img_list=[]\n",
    "np_img_list0=[]\n",
    "np_img_list1=[]\n",
    "np_img_list2=[]\n",
    "# 이미지 파일 리스트 출력 및 이미지 Into list + image resize\n",
    "for image_file in image_files:\n",
    "    #print(image_file)\n",
    "    img = Image.open(image_file).convert(\"L\")\n",
    "    im = img.resize((image_size,image_size))\n",
    "    image_list.append(im)\n",
    "    np_img_list.append(np.asarray(im))\n",
    "    np_img_list0.append(np.asarray(im))\n",
    "    np_img_list1.append(np.asarray(im))\n",
    "    #np_img_list2.append(np.asarray(im))"
   ]
  },
  {
   "cell_type": "code",
   "execution_count": 9,
   "metadata": {},
   "outputs": [
    {
     "name": "stdout",
     "output_type": "stream",
     "text": [
      "sangsaedo\n"
     ]
    },
    {
     "data": {
      "image/png": "[encoded data removed]",
      "text/plain": [
       "<PIL.Image.Image image mode=L size=112x112>"
      ]
     },
     "execution_count": 9,
     "metadata": {},
     "output_type": "execute_result"
    }
   ],
   "source": [
    "print(label_lists[2800])\n",
    "image_list[2800]"
   ]
  },
  {
   "cell_type": "code",
   "execution_count": 10,
   "metadata": {},
   "outputs": [
    {
     "name": "stderr",
     "output_type": "stream",
     "text": [
      "/tmp/ipykernel_98062/217983859.py:1: FutureWarning: The input object of type 'Image' is an array-like implementing one of the corresponding protocols (`__array__`, `__array_interface__` or `__array_struct__`); but not a sequence (or 0-D). In the future, this object will be coerced as if it was first converted using `np.array(obj)`. To retain the old behaviour, you have to either modify the type 'Image', or assign to an empty array created with `np.empty(correct_shape, dtype=object)`.\n",
      "  numpydata = np.asarray(image_list, dtype=object)\n",
      "/tmp/ipykernel_98062/217983859.py:2: FutureWarning: The input object of type 'Image' is an array-like implementing one of the corresponding protocols (`__array__`, `__array_interface__` or `__array_struct__`); but not a sequence (or 0-D). In the future, this object will be coerced as if it was first converted using `np.array(obj)`. To retain the old behaviour, you have to either modify the type 'Image', or assign to an empty array created with `np.empty(correct_shape, dtype=object)`.\n",
      "  np_images = np.array(image_list, dtype=object)\n"
     ]
    }
   ],
   "source": [
    "numpydata = np.asarray(image_list, dtype=object)\n",
    "np_images = np.array(image_list, dtype=object)"
   ]
  },
  {
   "cell_type": "code",
   "execution_count": 11,
   "metadata": {
    "scrolled": true
   },
   "outputs": [
    {
     "name": "stdout",
     "output_type": "stream",
     "text": [
      "<class 'PIL.Image.Image'>\n",
      "<class 'PIL.Image.Image'>\n"
     ]
    }
   ],
   "source": [
    "print(type(numpydata[3168]))\n",
    "print(type(np_images[3168]))"
   ]
  },
  {
   "cell_type": "code",
   "execution_count": 12,
   "metadata": {},
   "outputs": [
    {
     "data": {
      "text/plain": [
       "(112, 112)"
      ]
     },
     "execution_count": 12,
     "metadata": {},
     "output_type": "execute_result"
    }
   ],
   "source": [
    "numpydata[3168].size"
   ]
  },
  {
   "cell_type": "code",
   "execution_count": 13,
   "metadata": {},
   "outputs": [
    {
     "name": "stdout",
     "output_type": "stream",
     "text": [
      "(112, 112)\n",
      "(112, 112)\n"
     ]
    }
   ],
   "source": [
    "print(np_images[0].size)\n",
    "print(np_img_list[0].shape)"
   ]
  },
  {
   "cell_type": "code",
   "execution_count": 14,
   "metadata": {},
   "outputs": [
    {
     "data": {
      "text/plain": [
       "array([[234, 244, 244, ..., 255, 255, 255],\n",
       "       [248, 233, 215, ..., 255, 255, 255],\n",
       "       [204, 205, 205, ..., 255, 255, 255],\n",
       "       ...,\n",
       "       [255, 255, 255, ..., 255, 255, 255],\n",
       "       [255, 255, 255, ..., 255, 255, 255],\n",
       "       [255, 255, 255, ..., 255, 255, 255]], dtype=uint8)"
      ]
     },
     "execution_count": 14,
     "metadata": {},
     "output_type": "execute_result"
    }
   ],
   "source": [
    "np_img_list[0]"
   ]
  },
  {
   "cell_type": "code",
   "execution_count": 15,
   "metadata": {},
   "outputs": [],
   "source": [
    "for iter in range(3169):\n",
    "    np_img_list[iter] = np_img_list[iter].astype('float32')\n",
    "    x = np_img_list[iter]\n",
    "    np_img_list[iter] = (x-np.min(x))/(np.max(x)-np.min(x))\n",
    "    np_img_list0[iter] = np.flip(np_img_list[iter],0)\n",
    "    np_img_list1[iter] = np.flip(np_img_list[iter],1)"
   ]
  },
  {
   "cell_type": "code",
   "execution_count": 16,
   "metadata": {},
   "outputs": [],
   "source": [
    "labels_list = np.array(label_lists)"
   ]
  },
  {
   "cell_type": "code",
   "execution_count": 17,
   "metadata": {},
   "outputs": [],
   "source": [
    "np_img_list = np.concatenate((np_img_list,np_img_list0), axis=0)\n",
    "np_img_list = np.concatenate((np_img_list,np_img_list1), axis=0)\n",
    "tmp_list = labels_list\n",
    "labels_list = np.concatenate((labels_list,labels_list), axis=0)\n",
    "labels_list = np.concatenate((labels_list,tmp_list), axis=0)"
   ]
  },
  {
   "cell_type": "code",
   "execution_count": 18,
   "metadata": {},
   "outputs": [
    {
     "data": {
      "text/plain": [
       "array([[0.8670886 , 0.93037975, 0.93037975, ..., 1.        , 1.        ,\n",
       "        1.        ],\n",
       "       [0.9556962 , 0.8607595 , 0.7468355 , ..., 1.        , 1.        ,\n",
       "        1.        ],\n",
       "       [0.6772152 , 0.6835443 , 0.6835443 , ..., 1.        , 1.        ,\n",
       "        1.        ],\n",
       "       ...,\n",
       "       [1.        , 1.        , 1.        , ..., 1.        , 1.        ,\n",
       "        1.        ],\n",
       "       [1.        , 1.        , 1.        , ..., 1.        , 1.        ,\n",
       "        1.        ],\n",
       "       [1.        , 1.        , 1.        , ..., 1.        , 1.        ,\n",
       "        1.        ]], dtype=float32)"
      ]
     },
     "execution_count": 18,
     "metadata": {},
     "output_type": "execute_result"
    }
   ],
   "source": [
    "np_img_list[2]"
   ]
  },
  {
   "cell_type": "code",
   "execution_count": 19,
   "metadata": {},
   "outputs": [],
   "source": [
    "from collections import defaultdict"
   ]
  },
  {
   "cell_type": "code",
   "execution_count": 20,
   "metadata": {},
   "outputs": [
    {
     "name": "stdout",
     "output_type": "stream",
     "text": [
      "['gyaetongdo' 'gyaetongdo' 'gyaetongdo' ... 'jickseondo' 'jickseondo'\n",
      " 'jickseondo']\n"
     ]
    }
   ],
   "source": [
    "labels_list\n",
    "\n",
    "data = labels_list\n",
    "dic = defaultdict(int)\n",
    "print(data)\n"
   ]
  },
  {
   "cell_type": "code",
   "execution_count": 21,
   "metadata": {},
   "outputs": [
    {
     "name": "stdout",
     "output_type": "stream",
     "text": [
      "0 gyaetongdo\n",
      "1 pyeongmyundo\n",
      "2 goosungdo\n",
      "3 gigibaechido\n",
      "4 Legends\n",
      "5 layout\n",
      "6 cable_wiring_diagram\n",
      "7 Seonbunjang\n",
      "8 poseoldo\n",
      "9 sangsaedo\n",
      "10 gaehwangdo\n",
      "11 wiichido\n",
      "12 domyunmokcha\n",
      "13 gujomooldo\n",
      "14 ganji\n",
      "15 jickseondo\n"
     ]
    }
   ],
   "source": [
    "counter = 0\n",
    "\n",
    "for val in data:\n",
    "    if val not in dic: #if its a new entry add it to the dict and increase the counter\n",
    "        #print(val, counter)\n",
    "        dic[val] = counter\n",
    "        counter+=1\n",
    "        print(dic[val], val)\n",
    "        #time.sleep(3)"
   ]
  },
  {
   "cell_type": "code",
   "execution_count": 22,
   "metadata": {},
   "outputs": [],
   "source": [
    "labels = [dic[x] for x in data]"
   ]
  },
  {
   "cell_type": "code",
   "execution_count": 23,
   "metadata": {},
   "outputs": [],
   "source": [
    "labels_tmp = torch.tensor(labels)"
   ]
  },
  {
   "cell_type": "code",
   "execution_count": 24,
   "metadata": {},
   "outputs": [
    {
     "data": {
      "text/plain": [
       "torch.Size([9507])"
      ]
     },
     "execution_count": 24,
     "metadata": {},
     "output_type": "execute_result"
    }
   ],
   "source": [
    "labels_tmp.shape"
   ]
  },
  {
   "cell_type": "code",
   "execution_count": 25,
   "metadata": {},
   "outputs": [
    {
     "name": "stdout",
     "output_type": "stream",
     "text": [
      "(9507, 112, 112)\n"
     ]
    }
   ],
   "source": [
    "print(np_img_list.shape)\n",
    "img = np.reshape(np_img_list, (-1,1,image_size,image_size))\n",
    "all_labels = labels_tmp\n",
    "\n"
   ]
  },
  {
   "cell_type": "code",
   "execution_count": 26,
   "metadata": {},
   "outputs": [
    {
     "data": {
      "text/plain": [
       "torch.Size([9507])"
      ]
     },
     "execution_count": 26,
     "metadata": {},
     "output_type": "execute_result"
    }
   ],
   "source": [
    "all_labels.shape"
   ]
  },
  {
   "cell_type": "code",
   "execution_count": 27,
   "metadata": {},
   "outputs": [
    {
     "data": {
      "text/plain": [
       "(9507, 1, 112, 112)"
      ]
     },
     "execution_count": 27,
     "metadata": {},
     "output_type": "execute_result"
    }
   ],
   "source": [
    "img.shape"
   ]
  },
  {
   "cell_type": "code",
   "execution_count": 28,
   "metadata": {},
   "outputs": [],
   "source": [
    "img = torch.tensor(img)"
   ]
  },
  {
   "cell_type": "code",
   "execution_count": 29,
   "metadata": {},
   "outputs": [
    {
     "name": "stderr",
     "output_type": "stream",
     "text": [
      "/tmp/ipykernel_98062/3082215221.py:1: UserWarning: To copy construct from a tensor, it is recommended to use sourceTensor.clone().detach() or sourceTensor.clone().detach().requires_grad_(True), rather than torch.tensor(sourceTensor).\n",
      "  all_labels = torch.tensor(all_labels)\n"
     ]
    }
   ],
   "source": [
    "all_labels = torch.tensor(all_labels)"
   ]
  },
  {
   "cell_type": "code",
   "execution_count": 30,
   "metadata": {},
   "outputs": [],
   "source": [
    "dataset = TensorDataset(img, all_labels)"
   ]
  },
  {
   "cell_type": "code",
   "execution_count": 31,
   "metadata": {},
   "outputs": [
    {
     "name": "stdout",
     "output_type": "stream",
     "text": [
      "75\n"
     ]
    }
   ],
   "source": [
    "train_loader = DataLoader(dataset, batch_size=128, shuffle=True)\n",
    "print(len(train_loader))"
   ]
  },
  {
   "cell_type": "code",
   "execution_count": 32,
   "metadata": {},
   "outputs": [
    {
     "data": {
      "image/png": "[encoded data removed]",
      "text/plain": [
       "<Figure size 640x480 with 1 Axes>"
      ]
     },
     "metadata": {},
     "output_type": "display_data"
    }
   ],
   "source": [
    "img_grid = utils.make_grid(img[:40], ncol=8, padding=2)\n",
    "def show(img):\n",
    "    img = img.numpy() # Tensor -> numpy array\n",
    "    img = img.transpose([1,2,0]) # C x H x W -> H x W x C\n",
    "    plt.imshow(img, interpolation='nearest')\n",
    "show(img_grid)"
   ]
  },
  {
   "cell_type": "code",
   "execution_count": 33,
   "metadata": {},
   "outputs": [],
   "source": [
    "# set parameters\n",
    "params = {\n",
    "    'num_classes':16,\n",
    "    'nz':100,\n",
    "    'input_size':(1,112,112)\n",
    "}"
   ]
  },
  {
   "cell_type": "code",
   "execution_count": 34,
   "metadata": {},
   "outputs": [
    {
     "name": "stdout",
     "output_type": "stream",
     "text": [
      "torch.Size([16, 1, 112, 112])\n"
     ]
    }
   ],
   "source": [
    "class Generator(nn.Module):\n",
    "    \n",
    "    def __init__(self, params):\n",
    "        super().__init__()\n",
    "        self.num_classes = params['num_classes']\n",
    "        self.nz = params['nz'] # 노이즈 수\n",
    "        self.input_size = params['input_size'] # (1,28,28\n",
    "        \n",
    "        # Noise와 label을 결합하는 용도인 label embedding matrix를 생성\n",
    "        self.label_emb = nn.Embedding(self.num_classes, self.num_classes)\n",
    "        \n",
    "        # Generator\n",
    "        self.gen = nn.Sequential(\n",
    "            nn.Linear(self.nz + self.num_classes, 128),\n",
    "            nn.LeakyReLU(0.2),\n",
    "            nn.Linear(128, 256),\n",
    "            nn.BatchNorm1d(256),\n",
    "            nn.LeakyReLU(0.2),\n",
    "            nn.Linear(256,512),\n",
    "            nn.BatchNorm1d(512),\n",
    "            nn.LeakyReLU(0.2),\n",
    "            nn.Linear(512,1024),\n",
    "            nn.BatchNorm1d(1024),\n",
    "            nn.LeakyReLU(0.2),\n",
    "            nn.Linear(1024,int(np.prod(self.input_size))),\n",
    "            nn.Tanh()\n",
    "        )\n",
    "        \n",
    "    def forward(self, noise, labels):\n",
    "        # noise와 label의 결합\n",
    "        gen_input = torch.cat((self.label_emb(labels), noise), -1)\n",
    "        x = self.gen(gen_input)\n",
    "        x = x.view(x.size(0), *self.input_size)\n",
    "        return x\n",
    "    \n",
    "# check\n",
    "x = torch.randn(16,100,device=device) # 노이즈\n",
    "label = torch.randint(0,16,(16,),device=device)\n",
    "model_gen = Generator(params).to(device)\n",
    "out_gen = model_gen(x,label) # 가짜 이미지 생성\n",
    "print(out_gen.shape)"
   ]
  },
  {
   "cell_type": "code",
   "execution_count": 35,
   "metadata": {},
   "outputs": [
    {
     "name": "stdout",
     "output_type": "stream",
     "text": [
      "torch.Size([16, 1])\n"
     ]
    }
   ],
   "source": [
    "class Discriminator(nn.Module):\n",
    "    \n",
    "     def __init__(self, params):\n",
    "        super().__init__()\n",
    "        self.input_size = params['input_size']\n",
    "        self.num_classes = params['num_classes']\n",
    "        self.label_embedding = nn.Embedding(self.num_classes, self.num_classes)\n",
    "        self.dis = nn.Sequential(\n",
    "            nn.Linear(self.num_classes+int(np.prod(self.input_size)),512),\n",
    "            nn.LeakyReLU(0.2),\n",
    "            nn.Linear(512,512),\n",
    "            nn.Dropout(0.4),\n",
    "            nn.LeakyReLU(0.2),\n",
    "            nn.Linear(512,512),\n",
    "            nn.Dropout(0.4),\n",
    "            nn.LeakyReLU(0.2),\n",
    "            nn.Linear(512,1),\n",
    "            nn.Sigmoid()\n",
    "        )\n",
    "        \n",
    "     def forward(self, img, labels):\n",
    "        # 이미지와 label 결합\n",
    "        dis_input = torch.cat((img.view(img.size(0),-1),self.label_embedding(labels)),-1)\n",
    "        x = self.dis(dis_input)\n",
    "        return x\n",
    "    \n",
    "# check\n",
    "x = torch.randn(16,1,112,112,device=device)\n",
    "label = torch.randint(0,16,(16,), device=device)\n",
    "model_dis = Discriminator(params).to(device)\n",
    "out_dis = model_dis(x,label)\n",
    "print(out_dis.shape)"
   ]
  },
  {
   "cell_type": "code",
   "execution_count": 36,
   "metadata": {},
   "outputs": [],
   "source": [
    "# 가중치 초기화\n",
    "def initialize_weights(model):\n",
    "    classname = model.__class__.__name__\n",
    "    # fc layer\n",
    "    if classname.find('Linear') != -1:\n",
    "        nn.init.normal_(model.weight.data, 0.0, 0.02)\n",
    "        nn.init.constant_(model.bias.data, 0)\n",
    "    # batchnorm\n",
    "    elif classname.find('BatchNorm') != -1:\n",
    "        nn.init.normal_(model.weight.data, 1.0, 0.02)\n",
    "        nn.init.constant_(model.bias.data, 0)\n",
    "\n",
    "# 가중치 초기화 적용\n",
    "model_gen.apply(initialize_weights);\n",
    "model_dis.apply(initialize_weights);"
   ]
  },
  {
   "cell_type": "code",
   "execution_count": 37,
   "metadata": {},
   "outputs": [],
   "source": [
    "# 손실 함수\n",
    "loss_func = nn.BCELoss() \n",
    "\n",
    "from torch import optim\n",
    "\n",
    "lr = 3e-5\n",
    "beta1 = 0.5\n",
    "beta2 = 0.999\n",
    "\n",
    "# optimization\n",
    "opt_dis = optim.Adam(model_dis.parameters(), lr=lr, betas=(beta1,beta2)) # Discrminator\n",
    "opt_gen = optim.Adam(model_gen.parameters(), lr=lr, betas=(beta1,beta2)) # Generator\n",
    "\n",
    "# 학습 파라미터\n",
    "nz = params['nz'] # Noise vector initialize\n",
    "num_epochs = 2000\n",
    "\n",
    "loss_history={'gen':[],\n",
    "              'dis':[]}"
   ]
  },
  {
   "cell_type": "code",
   "execution_count": null,
   "metadata": {
    "scrolled": true
   },
   "outputs": [
    {
     "name": "stdout",
     "output_type": "stream",
     "text": [
      "Epoch: 13, G_Loss: 0.805124, D_Loss: 0.384648, time: 0.28 min\n",
      "Epoch: 26, G_Loss: 1.152644, D_Loss: 0.384403, time: 0.55 min\n",
      "Epoch: 39, G_Loss: 1.474560, D_Loss: 0.469624, time: 0.82 min\n",
      "Epoch: 53, G_Loss: 1.397883, D_Loss: 0.525340, time: 1.09 min\n",
      "Epoch: 66, G_Loss: 0.570534, D_Loss: 0.570060, time: 1.37 min\n",
      "Epoch: 79, G_Loss: 1.343232, D_Loss: 0.334777, time: 1.65 min\n",
      "Epoch: 93, G_Loss: 1.168690, D_Loss: 0.515039, time: 1.93 min\n",
      "Epoch: 106, G_Loss: 1.139484, D_Loss: 0.541413, time: 2.21 min\n",
      "Epoch: 119, G_Loss: 1.515136, D_Loss: 0.469624, time: 2.48 min\n",
      "Epoch: 133, G_Loss: 1.633166, D_Loss: 0.522515, time: 2.76 min\n",
      "Epoch: 146, G_Loss: 1.166400, D_Loss: 0.525181, time: 3.04 min\n",
      "Epoch: 159, G_Loss: 1.332857, D_Loss: 0.582769, time: 3.31 min\n",
      "Epoch: 173, G_Loss: 1.349856, D_Loss: 0.560330, time: 3.59 min\n",
      "Epoch: 186, G_Loss: 1.394838, D_Loss: 0.530582, time: 3.86 min\n",
      "Epoch: 199, G_Loss: 1.297129, D_Loss: 0.535929, time: 4.13 min\n",
      "Epoch: 213, G_Loss: 1.735878, D_Loss: 0.535440, time: 4.40 min\n",
      "Epoch: 226, G_Loss: 1.406833, D_Loss: 0.475701, time: 4.67 min\n",
      "Epoch: 239, G_Loss: 1.149678, D_Loss: 0.571798, time: 4.94 min\n",
      "Epoch: 253, G_Loss: 0.943115, D_Loss: 0.528412, time: 5.21 min\n",
      "Epoch: 266, G_Loss: 1.360798, D_Loss: 0.471646, time: 5.49 min\n",
      "Epoch: 279, G_Loss: 0.950271, D_Loss: 0.494533, time: 5.76 min\n",
      "Epoch: 293, G_Loss: 1.257090, D_Loss: 0.522840, time: 6.03 min\n",
      "Epoch: 306, G_Loss: 1.315933, D_Loss: 0.493378, time: 6.31 min\n",
      "Epoch: 319, G_Loss: 1.242943, D_Loss: 0.532259, time: 6.59 min\n",
      "Epoch: 333, G_Loss: 1.458585, D_Loss: 0.509218, time: 6.86 min\n",
      "Epoch: 346, G_Loss: 1.265449, D_Loss: 0.515242, time: 7.13 min\n",
      "Epoch: 359, G_Loss: 1.387215, D_Loss: 0.525234, time: 7.40 min\n",
      "Epoch: 373, G_Loss: 1.276202, D_Loss: 0.481057, time: 7.67 min\n",
      "Epoch: 386, G_Loss: 1.489551, D_Loss: 0.517068, time: 7.94 min\n",
      "Epoch: 399, G_Loss: 1.696870, D_Loss: 0.480601, time: 8.20 min\n",
      "Epoch: 413, G_Loss: 1.768146, D_Loss: 0.535578, time: 8.48 min\n",
      "Epoch: 426, G_Loss: 1.440903, D_Loss: 0.523566, time: 8.75 min\n",
      "Epoch: 439, G_Loss: 1.242015, D_Loss: 0.535269, time: 9.02 min\n",
      "Epoch: 453, G_Loss: 1.206884, D_Loss: 0.510417, time: 9.30 min\n",
      "Epoch: 466, G_Loss: 1.472377, D_Loss: 0.518300, time: 9.58 min\n",
      "Epoch: 479, G_Loss: 0.898882, D_Loss: 0.625381, time: 9.86 min\n",
      "Epoch: 493, G_Loss: 1.344490, D_Loss: 0.544230, time: 10.14 min\n",
      "Epoch: 506, G_Loss: 1.596566, D_Loss: 0.538797, time: 10.41 min\n",
      "Epoch: 519, G_Loss: 1.558425, D_Loss: 0.409009, time: 10.69 min\n",
      "Epoch: 533, G_Loss: 1.628499, D_Loss: 0.519744, time: 10.96 min\n",
      "Epoch: 546, G_Loss: 1.282878, D_Loss: 0.486865, time: 11.24 min\n",
      "Epoch: 559, G_Loss: 1.070376, D_Loss: 0.470732, time: 11.51 min\n",
      "Epoch: 573, G_Loss: 1.181963, D_Loss: 0.489885, time: 11.79 min\n",
      "Epoch: 586, G_Loss: 1.349668, D_Loss: 0.468020, time: 12.06 min\n",
      "Epoch: 599, G_Loss: 1.388070, D_Loss: 0.465255, time: 12.33 min\n",
      "Epoch: 613, G_Loss: 1.463836, D_Loss: 0.479507, time: 12.60 min\n",
      "Epoch: 626, G_Loss: 1.645361, D_Loss: 0.545904, time: 12.87 min\n",
      "Epoch: 639, G_Loss: 1.333912, D_Loss: 0.539318, time: 13.15 min\n",
      "Epoch: 653, G_Loss: 1.478660, D_Loss: 0.520646, time: 13.42 min\n",
      "Epoch: 666, G_Loss: 1.671075, D_Loss: 0.478152, time: 13.70 min\n",
      "Epoch: 679, G_Loss: 1.248736, D_Loss: 0.540756, time: 13.97 min\n",
      "Epoch: 693, G_Loss: 1.418199, D_Loss: 0.507538, time: 14.25 min\n",
      "Epoch: 706, G_Loss: 1.531555, D_Loss: 0.455590, time: 14.52 min\n",
      "Epoch: 719, G_Loss: 1.713707, D_Loss: 0.494973, time: 14.80 min\n",
      "Epoch: 733, G_Loss: 1.478395, D_Loss: 0.460605, time: 15.07 min\n",
      "Epoch: 746, G_Loss: 1.449008, D_Loss: 0.483270, time: 15.35 min\n",
      "Epoch: 759, G_Loss: 1.566477, D_Loss: 0.458446, time: 15.63 min\n",
      "Epoch: 773, G_Loss: 1.339372, D_Loss: 0.532117, time: 15.90 min\n",
      "Epoch: 786, G_Loss: 1.375121, D_Loss: 0.535325, time: 16.17 min\n",
      "Epoch: 799, G_Loss: 1.177420, D_Loss: 0.567914, time: 16.44 min\n",
      "Epoch: 813, G_Loss: 1.287281, D_Loss: 0.491949, time: 16.72 min\n",
      "Epoch: 826, G_Loss: 1.361820, D_Loss: 0.499622, time: 16.99 min\n",
      "Epoch: 839, G_Loss: 1.665275, D_Loss: 0.451426, time: 17.26 min\n",
      "Epoch: 853, G_Loss: 1.417037, D_Loss: 0.534766, time: 17.53 min\n",
      "Epoch: 866, G_Loss: 1.539330, D_Loss: 0.503731, time: 17.80 min\n",
      "Epoch: 879, G_Loss: 1.485703, D_Loss: 0.460377, time: 18.07 min\n",
      "Epoch: 893, G_Loss: 1.633506, D_Loss: 0.471472, time: 18.34 min\n",
      "Epoch: 906, G_Loss: 1.322032, D_Loss: 0.542322, time: 18.61 min\n",
      "Epoch: 919, G_Loss: 1.536824, D_Loss: 0.524370, time: 18.89 min\n",
      "Epoch: 933, G_Loss: 1.305429, D_Loss: 0.537873, time: 19.16 min\n",
      "Epoch: 946, G_Loss: 1.402186, D_Loss: 0.508822, time: 19.43 min\n",
      "Epoch: 959, G_Loss: 1.465212, D_Loss: 0.474998, time: 19.70 min\n",
      "Epoch: 973, G_Loss: 1.261992, D_Loss: 0.524768, time: 19.97 min\n",
      "Epoch: 986, G_Loss: 1.432341, D_Loss: 0.502355, time: 20.24 min\n",
      "Epoch: 999, G_Loss: 1.642623, D_Loss: 0.474671, time: 20.51 min\n",
      "Epoch: 1013, G_Loss: 1.372914, D_Loss: 0.471869, time: 20.79 min\n",
      "Epoch: 1026, G_Loss: 1.733343, D_Loss: 0.482738, time: 21.06 min\n",
      "Epoch: 1039, G_Loss: 1.310207, D_Loss: 0.434785, time: 21.33 min\n",
      "Epoch: 1053, G_Loss: 1.403239, D_Loss: 0.517122, time: 21.60 min\n",
      "Epoch: 1066, G_Loss: 1.471609, D_Loss: 0.495128, time: 21.88 min\n",
      "Epoch: 1079, G_Loss: 1.679902, D_Loss: 0.436987, time: 22.15 min\n",
      "Epoch: 1093, G_Loss: 1.484320, D_Loss: 0.505625, time: 22.42 min\n",
      "Epoch: 1106, G_Loss: 1.428470, D_Loss: 0.502953, time: 22.69 min\n",
      "Epoch: 1119, G_Loss: 1.078099, D_Loss: 0.592162, time: 22.97 min\n",
      "Epoch: 1133, G_Loss: 1.504158, D_Loss: 0.491622, time: 23.24 min\n",
      "Epoch: 1146, G_Loss: 1.465012, D_Loss: 0.494476, time: 23.51 min\n",
      "Epoch: 1159, G_Loss: 1.475558, D_Loss: 0.448580, time: 23.79 min\n",
      "Epoch: 1173, G_Loss: 1.278849, D_Loss: 0.539885, time: 24.06 min\n",
      "Epoch: 1186, G_Loss: 1.507955, D_Loss: 0.448680, time: 24.33 min\n",
      "Epoch: 1199, G_Loss: 1.500783, D_Loss: 0.500945, time: 24.60 min\n",
      "Epoch: 1213, G_Loss: 1.920412, D_Loss: 0.480498, time: 24.87 min\n",
      "Epoch: 1226, G_Loss: 1.482923, D_Loss: 0.493958, time: 25.14 min\n",
      "Epoch: 1239, G_Loss: 1.392663, D_Loss: 0.438918, time: 25.42 min\n",
      "Epoch: 1253, G_Loss: 1.479652, D_Loss: 0.495882, time: 25.69 min\n",
      "Epoch: 1266, G_Loss: 1.717737, D_Loss: 0.464706, time: 25.95 min\n",
      "Epoch: 1279, G_Loss: 1.495589, D_Loss: 0.411277, time: 26.23 min\n",
      "Epoch: 1293, G_Loss: 1.577383, D_Loss: 0.487634, time: 26.50 min\n",
      "Epoch: 1306, G_Loss: 1.456048, D_Loss: 0.500252, time: 26.78 min\n",
      "Epoch: 1319, G_Loss: 1.585979, D_Loss: 0.495873, time: 27.05 min\n",
      "Epoch: 1333, G_Loss: 1.512124, D_Loss: 0.501874, time: 27.33 min\n",
      "Epoch: 1346, G_Loss: 1.511805, D_Loss: 0.524803, time: 27.60 min\n",
      "Epoch: 1359, G_Loss: 1.493202, D_Loss: 0.580661, time: 27.88 min\n",
      "Epoch: 1373, G_Loss: 1.519514, D_Loss: 0.488595, time: 28.15 min\n",
      "Epoch: 1386, G_Loss: 1.469462, D_Loss: 0.468989, time: 28.42 min\n",
      "Epoch: 1399, G_Loss: 1.596371, D_Loss: 0.507928, time: 28.70 min\n",
      "Epoch: 1413, G_Loss: 1.501205, D_Loss: 0.474679, time: 28.97 min\n",
      "Epoch: 1426, G_Loss: 1.563481, D_Loss: 0.454401, time: 29.24 min\n",
      "Epoch: 1439, G_Loss: 1.911235, D_Loss: 0.466285, time: 29.52 min\n",
      "Epoch: 1453, G_Loss: 1.549253, D_Loss: 0.518309, time: 29.79 min\n",
      "Epoch: 1466, G_Loss: 1.491854, D_Loss: 0.486567, time: 30.06 min\n",
      "Epoch: 1479, G_Loss: 1.432716, D_Loss: 0.512194, time: 30.34 min\n",
      "Epoch: 1493, G_Loss: 1.483890, D_Loss: 0.558743, time: 30.61 min\n",
      "Epoch: 1506, G_Loss: 1.316294, D_Loss: 0.468003, time: 30.88 min\n",
      "Epoch: 1519, G_Loss: 1.853173, D_Loss: 0.508813, time: 31.16 min\n",
      "Epoch: 1533, G_Loss: 1.510449, D_Loss: 0.481608, time: 31.43 min\n",
      "Epoch: 1546, G_Loss: 1.692706, D_Loss: 0.514917, time: 31.70 min\n",
      "Epoch: 1559, G_Loss: 1.299906, D_Loss: 0.459256, time: 31.97 min\n",
      "Epoch: 1573, G_Loss: 1.784961, D_Loss: 0.466111, time: 32.24 min\n",
      "Epoch: 1586, G_Loss: 1.561904, D_Loss: 0.476244, time: 32.52 min\n",
      "Epoch: 1599, G_Loss: 1.891943, D_Loss: 0.452434, time: 32.79 min\n",
      "Epoch: 1613, G_Loss: 1.422503, D_Loss: 0.495352, time: 33.06 min\n",
      "Epoch: 1626, G_Loss: 1.661322, D_Loss: 0.467205, time: 33.34 min\n",
      "Epoch: 1639, G_Loss: 1.484317, D_Loss: 0.476164, time: 33.61 min\n",
      "Epoch: 1653, G_Loss: 1.758349, D_Loss: 0.420037, time: 33.88 min\n",
      "Epoch: 1666, G_Loss: 1.520736, D_Loss: 0.519803, time: 34.15 min\n",
      "Epoch: 1679, G_Loss: 1.631903, D_Loss: 0.481965, time: 34.42 min\n",
      "Epoch: 1693, G_Loss: 1.588310, D_Loss: 0.466108, time: 34.69 min\n",
      "Epoch: 1706, G_Loss: 1.648284, D_Loss: 0.416192, time: 34.96 min\n",
      "Epoch: 1719, G_Loss: 1.843194, D_Loss: 0.494926, time: 35.23 min\n",
      "Epoch: 1733, G_Loss: 1.394381, D_Loss: 0.545955, time: 35.52 min\n",
      "Epoch: 1746, G_Loss: 1.556633, D_Loss: 0.524442, time: 35.78 min\n",
      "Epoch: 1759, G_Loss: 1.727106, D_Loss: 0.562331, time: 36.05 min\n",
      "Epoch: 1773, G_Loss: 1.620531, D_Loss: 0.432187, time: 36.33 min\n",
      "Epoch: 1786, G_Loss: 1.495342, D_Loss: 0.479105, time: 36.61 min\n",
      "Epoch: 1799, G_Loss: 1.238941, D_Loss: 0.577236, time: 36.88 min\n",
      "Epoch: 1813, G_Loss: 1.480794, D_Loss: 0.494450, time: 37.15 min\n",
      "Epoch: 1826, G_Loss: 1.511373, D_Loss: 0.537576, time: 37.42 min\n",
      "Epoch: 1839, G_Loss: 1.964936, D_Loss: 0.560470, time: 37.69 min\n",
      "Epoch: 1853, G_Loss: 1.342998, D_Loss: 0.504941, time: 37.96 min\n",
      "Epoch: 1866, G_Loss: 1.545891, D_Loss: 0.485587, time: 38.23 min\n",
      "Epoch: 1879, G_Loss: 1.429147, D_Loss: 0.471823, time: 38.51 min\n",
      "Epoch: 1893, G_Loss: 1.763593, D_Loss: 0.477751, time: 38.78 min\n",
      "Epoch: 1906, G_Loss: 1.761525, D_Loss: 0.475920, time: 39.06 min\n",
      "Epoch: 1919, G_Loss: 1.547861, D_Loss: 0.484700, time: 39.33 min\n",
      "Epoch: 1933, G_Loss: 1.286829, D_Loss: 0.477125, time: 39.60 min\n",
      "Epoch: 1946, G_Loss: 1.641770, D_Loss: 0.483701, time: 39.87 min\n"
     ]
    }
   ],
   "source": [
    "# Train\n",
    "batch_count = 0\n",
    "start_time = time.time()\n",
    "model_dis.train()\n",
    "model_gen.train()\n",
    "\n",
    "for epoch in range(num_epochs):\n",
    "    for xb, yb in train_loader:\n",
    "        ba_si = xb.shape[0]\n",
    "        \n",
    "        xb = xb.to(device)\n",
    "        yb = yb.to(device)\n",
    "        yb_real = torch.Tensor(ba_si, 1).fill_(1.0).to(device) # real_label\n",
    "        yb_fake = torch.Tensor(ba_si, 1).fill_(0.0).to(device) # fake_label\n",
    "        \n",
    "        # Genetator\n",
    "        model_gen.zero_grad()\n",
    "        noise = torch.randn(ba_si,100).to(device) # 노이즈 생성\n",
    "        gen_label = torch.randint(0,16,(ba_si,)).to(device) # label 생성\n",
    "\n",
    "         # 가짜 이미지 생성\n",
    "        out_gen = model_gen(noise, gen_label)\n",
    "\n",
    "        # 가짜 이미지 판별\n",
    "        out_dis = model_dis(out_gen, gen_label)\n",
    "\n",
    "        loss_gen = loss_func(out_dis, yb_real)\n",
    "        loss_gen.backward()\n",
    "        opt_gen.step()\n",
    "\n",
    "        # Discriminator\n",
    "        model_dis.zero_grad()\n",
    "        \n",
    "        # 진짜 이미지 판별\n",
    "        out_dis = model_dis(xb, yb)\n",
    "        loss_real = loss_func(out_dis, yb_real)\n",
    "\n",
    "        # 가짜 이미지 판별\n",
    "        out_dis = model_dis(out_gen.detach(),gen_label)\n",
    "        loss_fake = loss_func(out_dis,yb_fake)\n",
    "\n",
    "        loss_dis = (loss_real + loss_fake) / 2\n",
    "        loss_dis.backward()\n",
    "        opt_dis.step()\n",
    "\n",
    "        loss_history['gen'].append(loss_gen.item())\n",
    "        loss_history['dis'].append(loss_dis.item())\n",
    "\n",
    "        batch_count += 1\n",
    "        if batch_count % 1000 == 0:\n",
    "            print('Epoch: %.0f, G_Loss: %.6f, D_Loss: %.6f, time: %.2f min' %(epoch, loss_gen.item(), loss_dis.item(), (time.time()-start_time)/60))"
   ]
  },
  {
   "cell_type": "code",
   "execution_count": null,
   "metadata": {},
   "outputs": [],
   "source": [
    "# plot loss history\n",
    "plt.figure(figsize=(10,5))\n",
    "plt.title('Loss Progress')\n",
    "plt.plot(loss_history['gen'], label='Gen. Loss')\n",
    "plt.plot(loss_history['dis'], label='Dis. Loss')\n",
    "plt.xlabel('batch count')\n",
    "plt.ylabel('Loss')\n",
    "plt.legend()\n",
    "plt.show()"
   ]
  },
  {
   "cell_type": "code",
   "execution_count": null,
   "metadata": {},
   "outputs": [],
   "source": [
    "path2models = './models/'\n",
    "os.makedirs(path2models, exist_ok=True)\n",
    "path2weights_gen = os.path.join(path2models, 'weights_gen.pt')\n",
    "path2weights_dis = os.path.join(path2models, 'weights_dis.pt')\n",
    "\n",
    "torch.save(model_gen.state_dict(), path2weights_gen)\n",
    "torch.save(model_dis.state_dict(), path2weights_dis)"
   ]
  },
  {
   "cell_type": "code",
   "execution_count": null,
   "metadata": {},
   "outputs": [],
   "source": [
    "# 가중치 불러오기\n",
    "weights = torch.load(path2weights_gen)\n",
    "model_gen.load_state_dict(weights)\n",
    "\n",
    "# evalutaion mode\n",
    "model_gen.eval()\n",
    "\n",
    "# fake image 생성\n",
    "with torch.no_grad():\n",
    "    fig = plt.figure(figsize=(8,8))\n",
    "    cols, rows = 4, 4 # row와 col 갯수\n",
    "    for i in range(rows * cols):\n",
    "        fixed_noise = torch.randn(16, 100, device=device)\n",
    "        label = torch.randint(0,16,(16,), device=device)\n",
    "        img_fake = model_gen(fixed_noise, label).detach().cpu()\n",
    "        fig.add_subplot(rows, cols, i+1)\n",
    "        plt.title(label[i].item())\n",
    "        plt.axis('off')\n",
    "        plt.imshow(img_fake[i].squeeze(), cmap='gray')\n",
    "plt.show()"
   ]
  },
  {
   "cell_type": "code",
   "execution_count": null,
   "metadata": {},
   "outputs": [],
   "source": [
    "# 가중치 불러오기\n",
    "weights = torch.load(path2weights_gen)\n",
    "model_gen.load_state_dict(weights)\n",
    "\n",
    "# evalutaion mode\n",
    "model_gen.eval()\n",
    "\n",
    "# fake image 생성\n",
    "with torch.no_grad():\n",
    "    fig = plt.figure(figsize=(8,8))\n",
    "    cols, rows = 4, 4 # row와 col 갯수\n",
    "    for i in range(rows * cols):\n",
    "        fixed_noise = torch.randn(16, 100, device=device)\n",
    "        label = torch.randint(0,16,(16,), device=device)\n",
    "        img_fake = model_gen(fixed_noise, label).detach().cpu()\n",
    "        fig.add_subplot(rows, cols, i+1)\n",
    "        plt.title(label[i].item())\n",
    "        plt.axis('off')\n",
    "        plt.imshow(img_fake[i].squeeze(), cmap='gray')\n",
    "plt.show()"
   ]
  },
  {
   "cell_type": "code",
   "execution_count": null,
   "metadata": {},
   "outputs": [],
   "source": []
  },
  {
   "cell_type": "code",
   "execution_count": null,
   "metadata": {},
   "outputs": [],
   "source": [
    "'''\n",
    "0 gyaetongdo\n",
    "1 pyeongmyundo\n",
    "2 goosungdo\n",
    "3 gigibaechido\n",
    "4 Legends\n",
    "5 layout\n",
    "6 cable_wiring_diagram\n",
    "7 Seonbunjang\n",
    "8 poseoldo\n",
    "9 sangsaedo\n",
    "10 gaehwangdo\n",
    "11 wiichido\n",
    "12 domyunmokcha\n",
    "13 gujomooldo\n",
    "14 ganji\n",
    "15 jickseondo\n",
    "'''"
   ]
  },
  {
   "cell_type": "code",
   "execution_count": null,
   "metadata": {},
   "outputs": [],
   "source": []
  },
  {
   "cell_type": "code",
   "execution_count": null,
   "metadata": {},
   "outputs": [],
   "source": []
  },
  {
   "cell_type": "code",
   "execution_count": null,
   "metadata": {},
   "outputs": [],
   "source": []
  },
  {
   "cell_type": "code",
   "execution_count": null,
   "metadata": {},
   "outputs": [],
   "source": []
  }
 ],
 "metadata": {
  "kernelspec": {
   "display_name": "Python 3 (ipykernel)",
   "language": "python",
   "name": "python3"
  },
  "language_info": {
   "codemirror_mode": {
    "name": "ipython",
    "version": 3
   },
   "file_extension": ".py",
   "mimetype": "text/x-python",
   "name": "python",
   "nbconvert_exporter": "python",
   "pygments_lexer": "ipython3",
   "version": "3.10.10"
  }
 },
 "nbformat": 4,
 "nbformat_minor": 4
}
